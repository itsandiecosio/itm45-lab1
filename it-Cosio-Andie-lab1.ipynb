{
 "cells": [
  {
   "cell_type": "code",
   "execution_count": null,
   "metadata": {},
   "outputs": [],
   "source": [
    "# 191327\n",
    "# Cosio (Angelina \"Andie\")\n",
    "# 2 BS ITE"
   ]
  },
  {
   "cell_type": "code",
   "execution_count": 20,
   "metadata": {},
   "outputs": [
    {
     "name": "stdout",
     "output_type": "stream",
     "text": [
      "Enter the amount in US Dollars: 5\n",
      "5 US Dollars = 250 Philippine Pesos\n"
     ]
    }
   ],
   "source": [
    "# Problem 1\n",
    "\n",
    "# Write a program that accepts an amount in US Dollars and converts to Philippine Pesos.\n",
    "# The input prompts must be as follows:\n",
    "# Enter the amount in US Dollars: \n",
    "# The output should be as follows:\n",
    "# [us dollar amount] US dollar(s) = [philippine peso amount] Philippine Pesos.\n",
    "# You must define a function dollars_to_pesos which accepts the amount in US dollars and returns the amount in Philippine Pesos.\n",
    "# Assume, for simplicity, that the conversion rate is PHP50 to USD 1.\n",
    "\n",
    "u = int(input('Enter the amount in US Dollars: '))\n",
    "p = int(50)\n",
    "\n",
    "pesos = u*p\n",
    "usd = u\n",
    "\n",
    "print(str(usd), 'US Dollars = ' + str(pesos),'Philippine Pesos')"
   ]
  },
  {
   "cell_type": "code",
   "execution_count": 28,
   "metadata": {},
   "outputs": [
    {
     "name": "stdout",
     "output_type": "stream",
     "text": [
      "First: 4\n",
      "Second: 2\n",
      "6\n",
      "2\n",
      "8\n",
      "2\n",
      "0\n"
     ]
    }
   ],
   "source": [
    "# Problem 2\n",
    "\n",
    "# The first line should be the sum of a and b.\n",
    "# The second line should be b subtracted from a.\n",
    "# The third line should be the product of a and b.\n",
    "# The fourth line should be the quotient when a is divided by b, excluding the remainder.\n",
    "# The fifth line should be the remainder when a is divided by b.\n",
    "\n",
    "a = int(input('First: '))\n",
    "b = int(input('Second: '))\n",
    "\n",
    "first = a + b\n",
    "second = a - b\n",
    "third = a*b\n",
    "fourth = a//b\n",
    "fifth = a%b\n",
    "\n",
    "print(str(first))\n",
    "print(str(second))\n",
    "print(str(third))\n",
    "print(str(fourth))\n",
    "print(str(fifth))"
   ]
  },
  {
   "cell_type": "code",
   "execution_count": 61,
   "metadata": {},
   "outputs": [
    {
     "name": "stdout",
     "output_type": "stream",
     "text": [
      "Enter weight: 25\n",
      "Enter height: 125\n",
      "BMI: 9.765624999999998\n"
     ]
    }
   ],
   "source": [
    "# Problem 3\n",
    "\n",
    "#Write a program that computes for your Body Mass Index (BMI). The formula for the BMI is as follows:\n",
    "#where kg is a person's weight in kilograms and m is height in meters.\n",
    "#Define a function compute_bmi that accepts kg and m as parameters and returns the BMI.\n",
    "#Be sure to convert cm to meters for the formula to work; write a function convert_cm_to_m which accepts a parameter cm and returns the meters. Feel free to Google the conversion.\n",
    "#Make sure that the program prompts the user with Enter kg and Enter cm for kg and cm respectively.\n",
    "#Your output should be in the form BMI: <computed bmi>\n",
    "\n",
    "k = int(input('Enter weight: '))\n",
    "h = int(input('Enter height: '))\n",
    "\n",
    "# tried to do the definition of convert, but it wouldn't work :<\n",
    "c = h*0.01\n",
    "\n",
    "def compute_bmi(k,c):\n",
    "    bmi = (k/(c**2))\n",
    "    print('BMI: ' + str(bmi))\n",
    "    \n",
    "compute_bmi(k,c)"
   ]
  }
 ],
 "metadata": {
  "kernelspec": {
   "display_name": "Python 3",
   "language": "python",
   "name": "python3"
  },
  "language_info": {
   "codemirror_mode": {
    "name": "ipython",
    "version": 3
   },
   "file_extension": ".py",
   "mimetype": "text/x-python",
   "name": "python",
   "nbconvert_exporter": "python",
   "pygments_lexer": "ipython3",
   "version": "3.8.3"
  }
 },
 "nbformat": 4,
 "nbformat_minor": 4
}
